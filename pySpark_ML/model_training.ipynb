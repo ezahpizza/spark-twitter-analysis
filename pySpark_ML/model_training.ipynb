{
  "cells": [
    {
      "cell_type": "markdown",
      "metadata": {
        "id": "C5A40kdMFklr"
      },
      "source": [
        "\n",
        "\n",
        "### **Problem Statement**: Analyzing Social Media Trends\n",
        "How can social media data be mined to find trending topics and sentiments?\n",
        "\n",
        "---"
      ]
    },
    {
      "cell_type": "markdown",
      "metadata": {
        "id": "5rcN41gWGbs0"
      },
      "source": [
        "####  Approach: Mining Twitter Data for Trending Topics and Sentiment Analysis\n",
        "\n",
        "To address the problem of analyzing social media trends and extracting sentiment insights, we designed a complete **Twitter Sentiment Analysis Pipeline** using **PySpark** for scalability and efficiency. Here's an overview of the steps involved:\n",
        "\n",
        "##### 1. **Data Collection & Labeling**\n",
        "\n",
        "We started with a dataset of tweets, each labeled with one of four sentiment categories:\n",
        "\n",
        "* **Positive**, **Negative**, **Neutral**, and **Irrelevant**.\n",
        "\n",
        "##### 2. **Text Preprocessing**\n",
        "\n",
        "To prepare tweets for analysis, we applied the following cleaning and transformation steps:\n",
        "\n",
        "* **URL, mentions, and hashtag removal** to eliminate noise.\n",
        "* **Lowercasing** and **special character filtering** to standardize text.\n",
        "* **Tokenization** to split tweets into individual words.\n",
        "* **Stopword removal** to discard common, uninformative words.\n",
        "\n",
        "##### 3. **Feature Engineering**\n",
        "\n",
        "We used **CountVectorizer** to convert filtered tokens into numerical feature vectors, capturing the frequency of words across tweets (Bag-of-Words model).\n",
        "\n",
        "##### 4. **Label Encoding**\n",
        "\n",
        "We applied `StringIndexer` to convert sentiment labels into numerical indices, making them suitable for machine learning models.\n",
        "\n",
        "##### 5. **Model Training**\n",
        "\n",
        "A **Logistic Regression** model was trained on the vectorized features to classify tweets into their respective sentiment categories. The entire process—from tokenization to model training—was encapsulated in a **PySpark ML pipeline**.\n",
        "\n",
        "##### 6. **Model Persistence & Reusability**\n",
        "\n",
        "The trained pipeline was saved and later reloaded using `PipelineModel.load()` to support reproducibility and deployment without retraining.\n",
        "\n",
        "##### 7. **Model Evaluation**\n",
        "\n",
        "We evaluated model performance using:\n",
        "\n",
        "* **Accuracy**: Achieved a strong score of **88.1%** on validation data.\n",
        "* **Confusion Matrix**: Visualized performance across all sentiment classes, highlighting strengths and areas of confusion (e.g., Neutral vs. Negative).\n",
        "\n",
        "---\n",
        "\n",
        "####  Outcome\n",
        "\n",
        "This pipeline demonstrates how social media data—specifically tweets—can be effectively mined and analyzed to understand public sentiment and track trending topics. The approach is scalable and can be adapted for real-time social media monitoring or extended to include topic modeling and trend detection.\n",
        "\n",
        "---\n",
        "\n"
      ]
    },
    {
      "cell_type": "code",
      "execution_count": null,
      "metadata": {
        "colab": {
          "base_uri": "https://localhost:8080/"
        },
        "id": "i9sD8nQ5Bu44",
        "outputId": "f1f59a4e-baae-49ef-85a2-adca9a4b9615"
      },
      "outputs": [
        {
          "name": "stderr",
          "output_type": "stream",
          "text": [
            "[nltk_data] Downloading package stopwords to /root/nltk_data...\n",
            "[nltk_data]   Package stopwords is already up-to-date!\n",
            "[nltk_data] Downloading package punkt to /root/nltk_data...\n",
            "[nltk_data]   Package punkt is already up-to-date!\n"
          ]
        }
      ],
      "source": [
        "# Third-Party Libraries\n",
        "import seaborn as sns\n",
        "import matplotlib.pyplot as plt\n",
        "from sklearn.metrics import confusion_matrix\n",
        "import nltk\n",
        "from nltk.corpus import stopwords\n",
        "\n",
        "# PySpark Core\n",
        "from pyspark.sql import SparkSession\n",
        "from pyspark.sql.functions import (col, lower, regexp_replace)\n",
        "\n",
        "# PySpark ML - Feature Engineering\n",
        "from pyspark.ml.feature import (\n",
        "    CountVectorizer, StringIndexer, Tokenizer, StopWordsRemover\n",
        ")\n",
        "\n",
        "# PySpark ML - Models\n",
        "from pyspark.ml.classification import LogisticRegression\n",
        "\n",
        "# PySpark ML - Evaluation\n",
        "from pyspark.ml.evaluation import MulticlassClassificationEvaluator\n",
        "\n",
        "# PySpark ML - Pipeline and Utilities\n",
        "from pyspark.ml import PipelineModel, Pipeline\n",
        "\n",
        "# NLTK Downloads\n",
        "nltk.download('stopwords')\n",
        "nltk.download('punkt')\n",
        "\n",
        "# Define English stopwords\n",
        "stop_words = stopwords.words('english')\n"
      ]
    },
    {
      "cell_type": "code",
      "execution_count": 24,
      "metadata": {
        "id": "UNthneSr7SQo"
      },
      "outputs": [],
      "source": [
        "# Creating a SparkSession\n",
        "spark = SparkSession.builder \\\n",
        "    .appName(\"Text Classification with PySpark\") \\\n",
        "    .getOrCreate()"
      ]
    },
    {
      "cell_type": "code",
      "execution_count": 25,
      "metadata": {
        "id": "XDYM-9E57WcC"
      },
      "outputs": [],
      "source": [
        "# Loading the data\n",
        "data = spark.read.csv('twitter_training.csv', header=False, inferSchema=True)\n",
        "validation = spark.read.csv('twitter_validation.csv', header=False, inferSchema=True)"
      ]
    },
    {
      "cell_type": "code",
      "execution_count": 26,
      "metadata": {
        "id": "eSGN9PrU7qrA"
      },
      "outputs": [],
      "source": [
        "# Define column names\n",
        "columns = ['id', 'Company', 'Label', 'Text']\n",
        "\n",
        "# Rename columns\n",
        "for i, col in enumerate(columns):\n",
        "    data = data.withColumnRenamed('_c{}'.format(i), col)\n",
        "    validation = validation.withColumnRenamed('_c{}'.format(i), col)"
      ]
    },
    {
      "cell_type": "code",
      "execution_count": 27,
      "metadata": {
        "colab": {
          "base_uri": "https://localhost:8080/"
        },
        "id": "T8UryDLe7s-f",
        "outputId": "6998f5d0-a74a-4ed2-b9ef-ebbbb2940f84"
      },
      "outputs": [
        {
          "name": "stdout",
          "output_type": "stream",
          "text": [
            "root\n",
            " |-- id: integer (nullable = true)\n",
            " |-- Company: string (nullable = true)\n",
            " |-- Label: string (nullable = true)\n",
            " |-- Text: string (nullable = true)\n",
            "\n"
          ]
        }
      ],
      "source": [
        "data.printSchema()"
      ]
    },
    {
      "cell_type": "code",
      "execution_count": 28,
      "metadata": {
        "id": "owPVM2YR7v7Z"
      },
      "outputs": [],
      "source": [
        "# Drop rows with empty 'Text' column\n",
        "data = data.dropna(subset=['Text'])\n",
        "validation = validation.dropna(subset=['Text'])"
      ]
    },
    {
      "cell_type": "code",
      "execution_count": 29,
      "metadata": {
        "colab": {
          "base_uri": "https://localhost:8080/"
        },
        "id": "HTW_uqiq7wdi",
        "outputId": "a5f58adc-d756-49bd-f4e7-94ed900b9455"
      },
      "outputs": [
        {
          "name": "stdout",
          "output_type": "stream",
          "text": [
            "+--------------------+\n",
            "|                Text|\n",
            "+--------------------+\n",
            "|im getting on bor...|\n",
            "|I am coming to th...|\n",
            "|im getting on bor...|\n",
            "|im coming on bord...|\n",
            "|im getting on bor...|\n",
            "|im getting into b...|\n",
            "|So I spent a few ...|\n",
            "|So I spent a coup...|\n",
            "|So I spent a few ...|\n",
            "|So I spent a few ...|\n",
            "+--------------------+\n",
            "only showing top 10 rows\n",
            "\n"
          ]
        }
      ],
      "source": [
        "data.select(\"Text\").show(10)"
      ]
    },
    {
      "cell_type": "markdown",
      "metadata": {
        "id": "tn2wYFYFCsDR"
      },
      "source": [
        "To prepare the sentiment labels for machine learning, we use StringIndexer to convert categorical labels (like \"Positive\", \"Negative\", etc.) into numerical values. This helps Spark ML models understand and process the labels effectively."
      ]
    },
    {
      "cell_type": "code",
      "execution_count": 30,
      "metadata": {
        "colab": {
          "base_uri": "https://localhost:8080/"
        },
        "id": "sZPfsMsF7zBw",
        "outputId": "4da17074-c135-4c74-d63f-bccb8dfc1733"
      },
      "outputs": [
        {
          "name": "stdout",
          "output_type": "stream",
          "text": [
            "Label Mapping:\n",
            "Index 0 --> Label 'Negative'\n",
            "Index 1 --> Label 'Positive'\n",
            "Index 2 --> Label 'Neutral'\n",
            "Index 3 --> Label 'Irrelevant'\n"
          ]
        }
      ],
      "source": [
        "# Define StringIndexer for the label column\n",
        "label_indexer = StringIndexer(inputCol=\"Label\", outputCol=\"Label2\")\n",
        "\n",
        "# Fit StringIndexer on data\n",
        "label_indexer_model = label_indexer.fit(data)\n",
        "data = label_indexer_model.transform(data)\n",
        "validation = label_indexer_model.transform(validation)\n",
        "\n",
        "# Extract label mapping\n",
        "label_mapping = label_indexer_model.labels\n",
        "\n",
        "# Print label mapping\n",
        "print(\"Label Mapping:\")\n",
        "for index, label in enumerate(label_mapping):\n",
        "    print(f\"Index {index} --> Label '{label}'\")"
      ]
    },
    {
      "cell_type": "markdown",
      "metadata": {
        "id": "D7wcB2pBC3kR"
      },
      "source": [
        "###  Text Cleaning\n",
        "\n",
        "Before analyzing tweet sentiment, we clean the raw text to remove noise and improve model performance. The `clean_text` function processes the text data using the following steps:\n",
        "\n",
        "1. **Remove URLs:** Strips out web links such as `https://...`, `www...`, or YouTube links.\n",
        "2. **Remove Mentions and Hashtags:** Deletes words starting with `@` (user mentions) or `#` (hashtags).\n",
        "3. **Convert to Lowercase:** Standardizes all text to lowercase for consistency.\n",
        "4. **Remove Special Characters:** Keeps only alphabetic characters and spaces—removes numbers, punctuation, emojis, etc.\n",
        "\n",
        "The cleaned output is stored in a new column called `cleaned_text`.\n",
        "\n"
      ]
    },
    {
      "cell_type": "code",
      "execution_count": 31,
      "metadata": {
        "id": "qQ8kFPiz7_RP"
      },
      "outputs": [],
      "source": [
        "def clean_text(df, inputCol=\"Text\", outputCol=\"cleaned_text\"):\n",
        "    df = df.withColumn(outputCol, regexp_replace(df[inputCol], r'https?://\\S+|www\\.\\S+|S+\\.com\\S+|youtu\\.be/\\S+', ''))\n",
        "    df = df.withColumn(outputCol, regexp_replace(df[outputCol], r'(@|#)\\w+', ''))\n",
        "    df = df.withColumn(outputCol, lower(df[outputCol]))\n",
        "    df = df.withColumn(outputCol, regexp_replace(df[outputCol], r'[^a-zA-Z\\s]', ''))\n",
        "\n",
        "    return df"
      ]
    },
    {
      "cell_type": "code",
      "execution_count": 32,
      "metadata": {
        "id": "gqSMuX638FGE"
      },
      "outputs": [],
      "source": [
        "cleaned_data = clean_text(data, inputCol=\"Text\", outputCol=\"Text\")\n",
        "cleaned_validation = clean_text(validation, inputCol=\"Text\", outputCol=\"Text\")"
      ]
    },
    {
      "cell_type": "markdown",
      "metadata": {
        "id": "MiL1Wnk8DKK7"
      },
      "source": [
        "###  Text Preprocessing and Modeling Pipeline\n",
        "\n",
        "This section prepares the cleaned tweet text for machine learning by converting it into numerical features and applying a classification model. The steps include:\n",
        "\n",
        "1. **Tokenization:**\n",
        "   Splits the tweet text into individual words (tokens).\n",
        "   `Tokenizer(inputCol=\"Text\", outputCol=\"tokens\")`\n",
        "\n",
        "2. **Stop Words Removal:**\n",
        "   Removes common words (like *\"the\"*, *\"is\"*, *\"and\"*) that carry little meaningful information.\n",
        "   `StopWordsRemover(inputCol=\"tokens\", outputCol=\"filtered_tokens\", stopWords=stop_words)`\n",
        "\n",
        "3. **Feature Extraction with CountVectorizer:**\n",
        "   Converts the filtered tokens into a vector of word counts (bag-of-words model).\n",
        "   `CountVectorizer(inputCol=\"filtered_tokens\", outputCol=\"features\", vocabSize=10000, minDF=5)`\n",
        "\n",
        "4. **Logistic Regression Model:**\n",
        "   A simple and effective classification model is trained to predict sentiment based on the extracted features.\n",
        "   `LogisticRegression(maxIter=10, labelCol=\"Label2\", featuresCol=\"features\")`\n",
        "\n",
        "These components together form a complete preprocessing and modeling pipeline for sentiment analysis.\n",
        "\n"
      ]
    },
    {
      "cell_type": "code",
      "execution_count": 33,
      "metadata": {
        "id": "FAuc-IEW8GbR"
      },
      "outputs": [],
      "source": [
        "# Tokenizer\n",
        "tokenizer = Tokenizer(inputCol=\"Text\", outputCol=\"tokens\")\n",
        "\n",
        "# Stopwords remover\n",
        "stopwords_remover = StopWordsRemover(inputCol=\"tokens\", outputCol=\"filtered_tokens\", stopWords=stop_words)\n",
        "\n",
        "# CountVectorizer\n",
        "count_vectorizer = CountVectorizer(inputCol=\"filtered_tokens\", outputCol=\"features\", vocabSize=10000, minDF=5)\n",
        "\n",
        "# Logistic Regression\n",
        "lr = LogisticRegression(maxIter=10, labelCol=\"Label2\", featuresCol=\"features\")"
      ]
    },
    {
      "cell_type": "code",
      "execution_count": 34,
      "metadata": {
        "id": "tf8H9Nk_8NJs"
      },
      "outputs": [],
      "source": [
        "# Create the pipeline\n",
        "pipeline = Pipeline(stages=[tokenizer, stopwords_remover, count_vectorizer, lr])\n",
        "\n",
        "# Apply the pipeline to the data\n",
        "model = pipeline.fit(cleaned_data)\n",
        "processed_data = model.transform(cleaned_data)"
      ]
    },
    {
      "cell_type": "markdown",
      "metadata": {
        "id": "rbkoGZluD8Wl"
      },
      "source": [
        "\n",
        "\n",
        "### Building and Applying the ML Pipeline\n",
        "\n",
        "To streamline the preprocessing and modeling steps, we create a **Pipeline**, which allows us to chain multiple data transformation and modeling stages into a single workflow.\n",
        "\n",
        "1. **Pipeline Creation:**\n",
        "   Combines the following stages into one reusable process:\n",
        "\n",
        "   * `Tokenizer`\n",
        "   * `StopWordsRemover`\n",
        "   * `CountVectorizer`\n",
        "   * `LogisticRegression`\n",
        "\n",
        "   ```python\n",
        "   pipeline = Pipeline(stages=[tokenizer, stopwords_remover, count_vectorizer, lr])\n",
        "   ```\n",
        "\n",
        "2. **Fit and Transform:**\n",
        "\n",
        "   * The pipeline is **fit** on the cleaned dataset to learn from the data.\n",
        "   * Then it **transforms** the data, applying all stages and generating predictions.\n",
        "\n",
        "   ```python\n",
        "   model = pipeline.fit(cleaned_data)\n",
        "   processed_data = model.transform(cleaned_data)\n",
        "   ```\n",
        "\n",
        "This approach ensures that all steps are executed in sequence and keeps the workflow modular, clean, and scalable."
      ]
    },
    {
      "cell_type": "code",
      "execution_count": 35,
      "metadata": {
        "colab": {
          "base_uri": "https://localhost:8080/"
        },
        "id": "ePc0PG2w8Rwb",
        "outputId": "899d6283-5c49-4e37-d4ed-7a98d7063e8f"
      },
      "outputs": [
        {
          "name": "stdout",
          "output_type": "stream",
          "text": [
            "root\n",
            " |-- id: integer (nullable = true)\n",
            " |-- Company: string (nullable = true)\n",
            " |-- Label: string (nullable = true)\n",
            " |-- Text: string (nullable = true)\n",
            " |-- Label2: double (nullable = false)\n",
            " |-- tokens: array (nullable = true)\n",
            " |    |-- element: string (containsNull = true)\n",
            " |-- filtered_tokens: array (nullable = true)\n",
            " |    |-- element: string (containsNull = true)\n",
            " |-- features: vector (nullable = true)\n",
            " |-- rawPrediction: vector (nullable = true)\n",
            " |-- probability: vector (nullable = true)\n",
            " |-- prediction: double (nullable = false)\n",
            "\n"
          ]
        }
      ],
      "source": [
        "processed_data.printSchema()"
      ]
    },
    {
      "cell_type": "code",
      "execution_count": 36,
      "metadata": {
        "colab": {
          "base_uri": "https://localhost:8080/"
        },
        "id": "WmTSkjl98TRZ",
        "outputId": "fc7903bf-8715-42be-f246-7521247cc60c"
      },
      "outputs": [
        {
          "name": "stdout",
          "output_type": "stream",
          "text": [
            "+--------------------+------+----------+\n",
            "|                Text|Label2|prediction|\n",
            "+--------------------+------+----------+\n",
            "|im getting on bor...|   1.0|       1.0|\n",
            "|i am coming to th...|   1.0|       1.0|\n",
            "|im getting on bor...|   1.0|       1.0|\n",
            "|im coming on bord...|   1.0|       1.0|\n",
            "|im getting on bor...|   1.0|       1.0|\n",
            "|im getting into b...|   1.0|       1.0|\n",
            "|so i spent a few ...|   1.0|       1.0|\n",
            "|so i spent a coup...|   1.0|       1.0|\n",
            "|so i spent a few ...|   1.0|       1.0|\n",
            "|so i spent a few ...|   1.0|       1.0|\n",
            "| so i spent a few...|   1.0|       1.0|\n",
            "|                 was|   1.0|       0.0|\n",
            "|rockhard la varlo...|   2.0|       2.0|\n",
            "|rockhard la varlo...|   2.0|       2.0|\n",
            "|rockhard la varlo...|   2.0|       2.0|\n",
            "|rockhard la vita ...|   2.0|       2.0|\n",
            "|live rock  hard m...|   2.0|       2.0|\n",
            "|ihard like me rar...|   2.0|       2.0|\n",
            "|that was the firs...|   1.0|       1.0|\n",
            "|this was the firs...|   1.0|       1.0|\n",
            "+--------------------+------+----------+\n",
            "only showing top 20 rows\n",
            "\n"
          ]
        }
      ],
      "source": [
        "processed_data.select(\"Text\", \"Label2\", \"prediction\").show()"
      ]
    },
    {
      "cell_type": "code",
      "execution_count": 37,
      "metadata": {
        "id": "I1Bieiz28Uyv"
      },
      "outputs": [],
      "source": [
        "model.write().overwrite().save(\"bigData_logReg_model.pkl\")"
      ]
    },
    {
      "cell_type": "markdown",
      "metadata": {
        "id": "yPNZyLZFEV3H"
      },
      "source": [
        "### Loading a Saved Model\n",
        "\n",
        "To reuse a previously trained sentiment analysis model without retraining, we load it from disk using `PipelineModel`.\n",
        "\n",
        "\n",
        "* This loads the entire preprocessing and logistic regression pipeline from the file `bigData_logReg_model.pkl`.\n",
        "* Once loaded, the model can be used to make predictions on new or unseen tweet data."
      ]
    },
    {
      "cell_type": "code",
      "execution_count": 38,
      "metadata": {
        "id": "okJ3Jj3k8fOv"
      },
      "outputs": [],
      "source": [
        "from pyspark.ml import PipelineModel\n",
        "\n",
        "# Load the model\n",
        "loaded_model = PipelineModel.load(\"bigData_logReg_model.pkl\")"
      ]
    },
    {
      "cell_type": "code",
      "execution_count": 39,
      "metadata": {
        "colab": {
          "base_uri": "https://localhost:8080/"
        },
        "id": "3ucuSwxe8kKQ",
        "outputId": "6ab424de-1bba-47e7-f2c3-bcdca65aae88"
      },
      "outputs": [
        {
          "name": "stdout",
          "output_type": "stream",
          "text": [
            "+-----+--------------------+----------+--------------------+------+\n",
            "|   id|             Company|     Label|                Text|Label2|\n",
            "+-----+--------------------+----------+--------------------+------+\n",
            "| 3364|            Facebook|Irrelevant|i mentioned on fa...|   3.0|\n",
            "|  352|              Amazon|   Neutral|bbc news  amazon ...|   2.0|\n",
            "| 8312|           Microsoft|  Negative| why do i pay for...|   0.0|\n",
            "| 4371|               CS-GO|  Negative|csgo matchmaking ...|   0.0|\n",
            "| 4433|              Google|   Neutral|now the president...|   2.0|\n",
            "| 6273|                FIFA|  Negative|hi  ive had madel...|   0.0|\n",
            "| 7925|           MaddenNFL|  Positive|         thank you  |   1.0|\n",
            "|11332|TomClancysRainbowSix|  Positive|rocket league sea...|   1.0|\n",
            "| 1107|      AssassinsCreed|  Positive|my ass still knee...|   1.0|\n",
            "| 2069|          CallOfDuty|  Negative|fix it jesus  ple...|   0.0|\n",
            "+-----+--------------------+----------+--------------------+------+\n",
            "only showing top 10 rows\n",
            "\n"
          ]
        }
      ],
      "source": [
        "cleaned_validation.show(10)"
      ]
    },
    {
      "cell_type": "code",
      "execution_count": 40,
      "metadata": {
        "colab": {
          "base_uri": "https://localhost:8080/"
        },
        "id": "hKtmEER28nPD",
        "outputId": "e870d692-2a26-48a8-905f-470cf143b4b9"
      },
      "outputs": [
        {
          "name": "stdout",
          "output_type": "stream",
          "text": [
            "+-----+--------------------+----------+------+\n",
            "|   id|                Text|prediction|Label2|\n",
            "+-----+--------------------+----------+------+\n",
            "| 3364|i mentioned on fa...|       3.0|   3.0|\n",
            "|  352|bbc news  amazon ...|       2.0|   2.0|\n",
            "| 8312| why do i pay for...|       0.0|   0.0|\n",
            "| 4371|csgo matchmaking ...|       0.0|   0.0|\n",
            "| 4433|now the president...|       2.0|   2.0|\n",
            "| 6273|hi  ive had madel...|       0.0|   0.0|\n",
            "| 7925|         thank you  |       1.0|   1.0|\n",
            "|11332|rocket league sea...|       1.0|   1.0|\n",
            "| 1107|my ass still knee...|       1.0|   1.0|\n",
            "| 2069|fix it jesus  ple...|       0.0|   0.0|\n",
            "| 3185|the professional ...|       1.0|   1.0|\n",
            "| 1172|itching to assass...|       1.0|   1.0|\n",
            "|11783| hey fred comcast...|       0.0|   0.0|\n",
            "| 4286|csgo wingman im s...|       2.0|   2.0|\n",
            "| 8431| game sucks down ...|       0.0|   0.0|\n",
            "| 9135|congrats to the n...|       1.0|   1.0|\n",
            "| 4822|    yeah and its fun|       1.0|   1.0|\n",
            "| 3068|       fuck my life |       0.0|   0.0|\n",
            "|10537|happy birthday re...|       1.0|   1.0|\n",
            "| 8056|what does that sa...|       0.0|   0.0|\n",
            "+-----+--------------------+----------+------+\n",
            "only showing top 20 rows\n",
            "\n"
          ]
        }
      ],
      "source": [
        "# Apply  pipeline to the new data\n",
        "processed_validation = loaded_model.transform(cleaned_validation)\n",
        "\n",
        "selected_data = processed_validation.select(\"id\", \"Text\", \"prediction\", \"Label2\")\n",
        "\n",
        "# Show the processed data\n",
        "selected_data.show()"
      ]
    },
    {
      "cell_type": "markdown",
      "metadata": {
        "id": "FwJCqPGuEiqt"
      },
      "source": [
        "### Model Evaluation\n",
        "\n",
        "After training the model, we evaluate its performance using accuracy and a confusion matrix.\n",
        "\n",
        "1. **Accuracy Evaluation:**\n",
        "   We use `MulticlassClassificationEvaluator` to compute the **accuracy** of the model on the validation data.\n",
        "\n",
        "\n",
        "2. **Confusion Matrix:**\n",
        "   To better understand model performance across each sentiment class, we compute and visualize a **confusion matrix**:\n",
        "\n",
        "\n"
      ]
    },
    {
      "cell_type": "code",
      "execution_count": 41,
      "metadata": {
        "colab": {
          "base_uri": "https://localhost:8080/",
          "height": 600
        },
        "id": "odI9EMDG9F2D",
        "outputId": "26353b07-833c-42c9-fd3a-c2f031dbcfd3"
      },
      "outputs": [
        {
          "name": "stdout",
          "output_type": "stream",
          "text": [
            "Accuracy: 0.881\n",
            "Confusion Matrix:\n"
          ]
        },
        {
          "data": {
            "image/png": "[encoded data removed]",
            "text/plain": [
              "<Figure size 800x600 with 2 Axes>"
            ]
          },
          "metadata": {},
          "output_type": "display_data"
        }
      ],
      "source": [
        "# Evaluate accuracy\n",
        "evaluator = MulticlassClassificationEvaluator(labelCol=\"Label2\", predictionCol=\"prediction\", metricName=\"accuracy\")\n",
        "accuracy = evaluator.evaluate(processed_validation)\n",
        "print(\"Accuracy:\", accuracy)\n",
        "\n",
        "# Convert Spark DataFrame to Pandas DataFrame\n",
        "prediction_and_label_pd = processed_validation.select(\"prediction\", \"Label2\").toPandas()\n",
        "\n",
        "# Extract predicted labels and true labels\n",
        "predicted_labels = prediction_and_label_pd[\"prediction\"].tolist()\n",
        "true_labels = prediction_and_label_pd[\"Label2\"].tolist()\n",
        "\n",
        "# Create confusion matrix\n",
        "conf_matrix = confusion_matrix(true_labels, predicted_labels)\n",
        "print(\"Confusion Matrix:\")\n",
        "# Plot confusion matrix using Seaborn\n",
        "plt.figure(figsize=(8, 6))\n",
        "sns.heatmap(conf_matrix, annot=True, fmt=\"d\", cmap=\"Blues\", xticklabels=True, yticklabels=True)\n",
        "plt.xlabel(\"Predicted Labels\")\n",
        "plt.ylabel(\"True Labels\")\n",
        "plt.title(\"Confusion Matrix\")\n",
        "plt.show()"
      ]
    },
    {
      "cell_type": "code",
      "execution_count": 42,
      "metadata": {
        "id": "EfqKXAUn9Lfl"
      },
      "outputs": [],
      "source": [
        "# Stop SparkSession\n",
        "spark.stop()"
      ]
    },
    {
      "cell_type": "markdown",
      "metadata": {
        "id": "UJOdnVndFFXQ"
      },
      "source": [
        "\n",
        "---\n",
        "\n",
        "###  Evaluation Results\n",
        "\n",
        "After applying the trained logistic regression model to the validation dataset, we evaluated its performance using **accuracy** and a **confusion matrix**.\n",
        "\n",
        "####  **Model Accuracy**\n",
        "\n",
        "The overall accuracy of the model is:\n",
        "\n",
        "```text\n",
        "Accuracy: 0.881\n",
        "```\n",
        "\n",
        "This means the model correctly predicted the sentiment of tweets **88.1%** of the time — a strong result for a multi-class classification task.\n",
        "\n",
        "####  **Confusion Matrix Interpretation**\n",
        "\n",
        "The confusion matrix below shows the model's performance across four sentiment categories:\n",
        "\n",
        "| Label Index | Sentiment  |\n",
        "| ----------- | ---------- |\n",
        "| 0           | Negative   |\n",
        "| 1           | Positive   |\n",
        "| 2           | Neutral    |\n",
        "| 3           | Irrelevant |\n",
        "\n",
        "Each cell represents the number of predictions made for each true vs. predicted label combination:\n",
        "\n",
        "* **Diagonal cells** (e.g., 252, 254, 230, 145) indicate **correct predictions**.\n",
        "* **Off-diagonal cells** indicate **misclassifications**, such as:\n",
        "\n",
        "  * 22 Neutral tweets misclassified as Negative.\n",
        "  * 12 Irrelevant tweets misclassified as Negative.\n",
        "  * Some Positive tweets mislabeled as Neutral or Irrelevant.\n",
        "\n",
        "####  Key Observations\n",
        "\n",
        "* The model performs **very well** in identifying **Positive** and **Negative** sentiments, with very few misclassifications.\n",
        "* **Neutral** tweets have slightly more overlap with other classes, especially Negative.\n",
        "* **Irrelevant** tweets show the most confusion, especially with Neutral and Negative, which is common in sentiment analysis due to ambiguous content.\n",
        "\n",
        "####  Confusion Matrix Heatmap\n",
        "\n",
        "The heatmap visualizes the classification results. Darker diagonal cells represent stronger model performance in those classes.\n",
        "\n",
        "---\n"
      ]
    }
  ],
  "metadata": {
    "colab": {
      "provenance": []
    },
    "kernelspec": {
      "display_name": "Python 3",
      "name": "python3"
    },
    "language_info": {
      "name": "python"
    }
  },
  "nbformat": 4,
  "nbformat_minor": 0
}
